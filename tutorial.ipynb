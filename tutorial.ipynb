{
 "cells": [
  {
   "cell_type": "code",
   "execution_count": null,
   "metadata": {
    "collapsed": true
   },
   "outputs": [],
   "source": [
    "# Third-party\n",
    "import matplotlib.pyplot as plt\n",
    "import numpy as np\n",
    "plt.style.use('notebook.mplstyle')\n",
    "%matplotlib inline\n",
    "\n",
    "# Astropy\n",
    "import astropy.coordinates as coord\n",
    "import astropy.units as u"
   ]
  },
  {
   "cell_type": "markdown",
   "metadata": {},
   "source": [
    "Support for transforming velocities and proper motions was added to Astropy in v2.0 (released 2017-07-08), so you may need to update your version of Astropy to get the new features. If you use Anaconda (`conda`) for your Python installation, you can just do:\n",
    "\n",
    "```\n",
    "conda update astropy\n",
    "```\n",
    "\n",
    "If you use `pip`, you can do:\n",
    "\n",
    "```\n",
    "pip install --upgrade astropy\n",
    "```\n",
    "\n",
    "If you don't use either, come talk to me..."
   ]
  },
  {
   "cell_type": "markdown",
   "metadata": {},
   "source": [
    "### Links\n",
    "\n",
    "Here are two relevant pages in the Astropy documentation:\n",
    "\n",
    "* [Transform from Heliocentric, spherical velocities (proper motion, etc.) to Galactocentric Cartesian velocities](\n",
    "http://docs.astropy.org/en/latest/generated/examples/coordinates/plot_galactocentric-frame.html#sphx-glr-generated-examples-coordinates-plot-galactocentric-frame-py)\n",
    "* [Working with velocities in astropy.coordinates](http://docs.astropy.org/en/latest/coordinates/velocities.html)"
   ]
  },
  {
   "cell_type": "markdown",
   "metadata": {},
   "source": [
    "## Astropy coordinates terminology\n",
    "\n",
    "* \"Frame\": This is the reference frame of your data. For example, ICRS (RA, Dec), Galactic (l, b), etc. All of the typical astronomical reference frames are implemented as classes in `astropy.coordinates`. For example, ICRS is just `ICRS`, etc. See the [transform graph](http://docs.astropy.org/en/latest/coordinates/index.html#module-astropy.coordinates) for a visualization of all of the frames and the transformations that are defined. The coordinate component names for each frame change depending on the type of frame. So, for `ICRS`->(ra,dec), for `Galactic`->(l,b). You can transform between these frames using the `.transform_to()` method:"
   ]
  },
  {
   "cell_type": "code",
   "execution_count": null,
   "metadata": {
    "collapsed": true
   },
   "outputs": [],
   "source": [
    "icrs = coord.ICRS(ra=150 * u.degree, dec=-11*u.degree)"
   ]
  },
  {
   "cell_type": "code",
   "execution_count": null,
   "metadata": {},
   "outputs": [],
   "source": [
    "icrs.transform_to(coord.Galactic)"
   ]
  },
  {
   "cell_type": "markdown",
   "metadata": {},
   "source": [
    "All of the values can be arrays or singular values:"
   ]
  },
  {
   "cell_type": "code",
   "execution_count": null,
   "metadata": {},
   "outputs": [],
   "source": [
    "icrs = coord.ICRS(ra=np.arange(10) * u.degree, dec=np.arange(10) * u.degree)\n",
    "icrs"
   ]
  },
  {
   "cell_type": "markdown",
   "metadata": {},
   "source": [
    "* \"Representation\": e.g., Cartesian, spherical, cylindrical. This is just a transformation of the data without a change of reference frame. Each frame has a default representation (e.g., for ICRS, Galactic, it's spherical) but that can be changed."
   ]
  },
  {
   "cell_type": "code",
   "execution_count": null,
   "metadata": {},
   "outputs": [],
   "source": [
    "icrs = coord.ICRS(ra=150 * u.degree, dec=-11 * u.degree)\n",
    "icrs.representation"
   ]
  },
  {
   "cell_type": "code",
   "execution_count": null,
   "metadata": {
    "collapsed": true
   },
   "outputs": [],
   "source": [
    "icrs.set_representation_cls(coord.CylindricalRepresentation)"
   ]
  },
  {
   "cell_type": "code",
   "execution_count": null,
   "metadata": {},
   "outputs": [],
   "source": [
    "icrs.representation"
   ]
  },
  {
   "cell_type": "code",
   "execution_count": null,
   "metadata": {},
   "outputs": [],
   "source": [
    "icrs.rho, icrs.phi"
   ]
  },
  {
   "cell_type": "markdown",
   "metadata": {},
   "source": [
    "* \"Differential\": Any derivative of the representation. This is how the velocities are currently stored internally, as time derivatives of the representation object. You don't really need to know about the low-level API, but you may see the word \"differential\" in example code."
   ]
  },
  {
   "cell_type": "markdown",
   "metadata": {},
   "source": [
    "Specifying values to the frame classes makes use of the [`astropy.units`](http://docs.astropy.org/en/latest/units/index.html). The primary object in the units subpackage is the [`Quantity`](http://docs.astropy.org/en/latest/units/quantity.html), which are representations of \"number\" or \"array\" data with units. They are typically created by multiplying a unit object with an array or number. For example:"
   ]
  },
  {
   "cell_type": "code",
   "execution_count": null,
   "metadata": {},
   "outputs": [],
   "source": [
    "15 * u.km"
   ]
  },
  {
   "cell_type": "code",
   "execution_count": null,
   "metadata": {},
   "outputs": [],
   "source": [
    "dist = np.arange(10) * u.kpc\n",
    "dist"
   ]
  },
  {
   "cell_type": "markdown",
   "metadata": {},
   "source": [
    "Arithmetic with these objects preserves the units and carries them along:"
   ]
  },
  {
   "cell_type": "code",
   "execution_count": null,
   "metadata": {},
   "outputs": [],
   "source": [
    "dist / (15*u.Myr)"
   ]
  },
  {
   "cell_type": "markdown",
   "metadata": {},
   "source": [
    "And the units can be re-represented using the `.to()` method:"
   ]
  },
  {
   "cell_type": "code",
   "execution_count": null,
   "metadata": {},
   "outputs": [],
   "source": [
    "v = dist / (15*u.Myr)\n",
    "v.to(u.km/u.s)"
   ]
  },
  {
   "cell_type": "markdown",
   "metadata": {},
   "source": [
    "----\n",
    "\n",
    "### Passing velocity components to the coordinate frames\n",
    "\n",
    "With the default (spherical) representations for most frames, the velocity components are specified as `pm_XX_cosYY`, `pm_YY`, and `radial_velocity`. For example, for the ICRS frame (which is Barycentric):"
   ]
  },
  {
   "cell_type": "code",
   "execution_count": null,
   "metadata": {},
   "outputs": [],
   "source": [
    "coord.ICRS(ra=8.67*u.hourangle, dec=53.09*u.deg,\n",
    "           pm_ra_cosdec=21*u.mas/u.yr, \n",
    "           pm_dec=117*u.mas/u.yr)"
   ]
  },
  {
   "cell_type": "code",
   "execution_count": null,
   "metadata": {},
   "outputs": [],
   "source": [
    "coord.ICRS(ra=8.67*u.hourangle, dec=53.09*u.deg,\n",
    "           pm_ra_cosdec=21*u.mas/u.yr, \n",
    "           pm_dec=117*u.mas/u.yr,\n",
    "           radial_velocity=71*u.km/u.s)"
   ]
  },
  {
   "cell_type": "markdown",
   "metadata": {},
   "source": [
    "Only some frame transformations are supported when incomplete position or velocity data are passed. For example, with only sky position and proper motions, we can only transform to other frames that include a spherical rotation:"
   ]
  },
  {
   "cell_type": "code",
   "execution_count": null,
   "metadata": {},
   "outputs": [],
   "source": [
    "icrs = coord.ICRS(ra=8.67*u.hourangle, dec=53.09*u.deg,\n",
    "                  pm_ra_cosdec=21*u.mas/u.yr, \n",
    "                  pm_dec=117*u.mas/u.yr)\n",
    "\n",
    "icrs.transform_to(coord.Galactic)"
   ]
  },
  {
   "cell_type": "markdown",
   "metadata": {},
   "source": [
    "Without a distance or a radial velocity, transforming to any frame that requires a position or velocity offset will fail. For example, with the above, we can't transform to a `Galactocentric` frame:"
   ]
  },
  {
   "cell_type": "code",
   "execution_count": null,
   "metadata": {},
   "outputs": [],
   "source": [
    "icrs = coord.ICRS(ra=8.67*u.hourangle, dec=53.09*u.deg,\n",
    "                  pm_ra_cosdec=21*u.mas/u.yr, \n",
    "                  pm_dec=117*u.mas/u.yr)\n",
    "icrs.transform_to(coord.Galactocentric)"
   ]
  },
  {
   "cell_type": "markdown",
   "metadata": {},
   "source": [
    "But if we specify these other components:"
   ]
  },
  {
   "cell_type": "code",
   "execution_count": null,
   "metadata": {},
   "outputs": [],
   "source": [
    "icrs = coord.ICRS(ra=8.67*u.hourangle, dec=53.09*u.deg,\n",
    "                  distance=150*u.pc,\n",
    "                  pm_ra_cosdec=21*u.mas/u.yr, \n",
    "                  pm_dec=117*u.mas/u.yr,\n",
    "                  radial_velocity=21*u.km/u.s)\n",
    "gc = icrs.transform_to(coord.Galactocentric)\n",
    "gc"
   ]
  },
  {
   "cell_type": "markdown",
   "metadata": {},
   "source": [
    "The default Galactocentric frame has the parameters:"
   ]
  },
  {
   "cell_type": "code",
   "execution_count": null,
   "metadata": {},
   "outputs": [],
   "source": [
    "print(gc.galcen_distance, gc.galcen_v_sun, gc.z_sun)"
   ]
  },
  {
   "cell_type": "markdown",
   "metadata": {},
   "source": [
    "The default representation for the Galactocentric frame is Cartesian, but we can change to, e.g., cylindrical:"
   ]
  },
  {
   "cell_type": "code",
   "execution_count": null,
   "metadata": {},
   "outputs": [],
   "source": [
    "gc.v_x"
   ]
  },
  {
   "cell_type": "code",
   "execution_count": null,
   "metadata": {
    "collapsed": true
   },
   "outputs": [],
   "source": [
    "gc.set_representation_cls('cylindrical')"
   ]
  },
  {
   "cell_type": "code",
   "execution_count": null,
   "metadata": {},
   "outputs": [],
   "source": [
    "gc.rho, gc.z"
   ]
  },
  {
   "cell_type": "code",
   "execution_count": null,
   "metadata": {},
   "outputs": [],
   "source": [
    "gc.d_rho.to(u.km/u.s), gc.d_z.to(u.km/u.s)"
   ]
  },
  {
   "cell_type": "markdown",
   "metadata": {},
   "source": [
    "All of this works with arrays as well. As an example, let's create a circular ring of particles at 15 kpc in the Galactocentric frame with the circular velocity of the disk, and transform to observable coordinates:"
   ]
  },
  {
   "cell_type": "code",
   "execution_count": null,
   "metadata": {},
   "outputs": [],
   "source": [
    "circ_velocity = 220 * u.km/u.s\n",
    "dist = 15 * u.kpc\n",
    "\n",
    "phi_grid = np.random.uniform(0, 360, 512) * u.degree # grid of azimuths\n",
    "ring_rep = coord.CylindricalRepresentation(rho=dist, phi=phi_grid, z=0*u.pc)\n",
    "\n",
    "angular_velocity = -circ_velocity*np.ones(len(phi_grid)) / dist\n",
    "\n",
    "ring_dif = coord.CylindricalDifferential(\n",
    "    d_rho=0*u.km/u.s,\n",
    "    d_phi=angular_velocity.to(u.mas/u.yr, u.dimensionless_angles()),\n",
    "    d_z=0*u.km/u.s\n",
    ")\n",
    "\n",
    "ring_rep = ring_rep.with_differentials(ring_dif)\n",
    "gc_ring = coord.Galactocentric(ring_rep)"
   ]
  },
  {
   "cell_type": "code",
   "execution_count": null,
   "metadata": {
    "collapsed": true
   },
   "outputs": [],
   "source": [
    "icrs_ring = gc_ring.transform_to(coord.ICRS)"
   ]
  },
  {
   "cell_type": "code",
   "execution_count": null,
   "metadata": {},
   "outputs": [],
   "source": [
    "fig,axes = plt.subplots(1, 2, figsize=(12,6))\n",
    "\n",
    "# Positions\n",
    "axes[0].plot(gc_ring.x, gc_ring.y, marker='.', linestyle='none')\n",
    "axes[0].text(-8., 0, r'$\\odot$', fontsize=20)\n",
    "\n",
    "axes[0].set_xlim(-30, 30)\n",
    "axes[0].set_ylim(-30, 30)\n",
    "\n",
    "axes[0].set_xlabel('$x$ [kpc]')\n",
    "axes[0].set_ylabel('$y$ [kpc]')\n",
    "\n",
    "# Velocities\n",
    "axes[1].plot(gc_ring.v_x, gc_ring.v_y, marker='.', linestyle='none')\n",
    "\n",
    "axes[1].set_xlim(-250, 250)\n",
    "axes[1].set_ylim(-250, 250)\n",
    "\n",
    "axes[1].set_xlabel('$v_x$ [{0}]'.format((u.km/u.s).to_string(\"latex_inline\")))\n",
    "axes[1].set_ylabel('$v_y$ [{0}]'.format((u.km/u.s).to_string(\"latex_inline\")))\n",
    "\n",
    "fig.tight_layout()"
   ]
  },
  {
   "cell_type": "code",
   "execution_count": null,
   "metadata": {},
   "outputs": [],
   "source": [
    "fig,ax = plt.subplots(1, 1, figsize=(8,6))\n",
    "\n",
    "ax.plot(icrs_ring.ra.degree, icrs_ring.pm_ra_cosdec.value,\n",
    "        marker='.', linestyle='none')\n",
    "\n",
    "ax.set_xlim(360, 0)\n",
    "\n",
    "ax.set_xlabel(r'$\\alpha$ [deg]')\n",
    "ax.set_ylabel(r'$\\mu_\\alpha \\, \\cos \\delta$ [{0}]'.format((u.mas/u.yr).to_string('latex_inline')))"
   ]
  },
  {
   "cell_type": "markdown",
   "metadata": {},
   "source": [
    "### Defining a custom coordinate frame - Stellar stream coordinates"
   ]
  },
  {
   "cell_type": "markdown",
   "metadata": {},
   "source": [
    "As an example of how to define your own, custom coordinate frame, we'll define a Sagittarius stream coordinate frame. This system is roughly aligned with the stream so that the longitude component increases along the stream and the latitude is perpendicular to the stream. Though, this is only approximate because it is still a Barycentric frame. \n",
    "A more expository version of this tutorial is included [in the documentation](http://docs.astropy.org/en/latest/generated/examples/coordinates/plot_sgr-coordinate-frame.html#sphx-glr-generated-examples-coordinates-plot-sgr-coordinate-frame-py).\n",
    "\n",
    "Most of the below code is either documentation or boilerplate code that you can copy and paste if you want to define your own. The key bits below are that the longitude and latitude components of the frame are typically defined as $\\Lambda$ and $B$, so we'll call them `Lambda` and `Beta` in the below."
   ]
  },
  {
   "cell_type": "code",
   "execution_count": null,
   "metadata": {
    "collapsed": true
   },
   "outputs": [],
   "source": [
    "from astropy.coordinates import frame_transform_graph\n",
    "from astropy.coordinates.matrix_utilities import rotation_matrix, matrix_product, matrix_transpose"
   ]
  },
  {
   "cell_type": "code",
   "execution_count": null,
   "metadata": {
    "collapsed": true
   },
   "outputs": [],
   "source": [
    "class Sagittarius(coord.BaseCoordinateFrame):\n",
    "    \"\"\"\n",
    "    A Heliocentric spherical coordinate system defined by the orbit\n",
    "    of the Sagittarius dwarf galaxy, as described in\n",
    "        http://adsabs.harvard.edu/abs/2003ApJ...599.1082M\n",
    "    and further explained in\n",
    "        http://www.stsci.edu/~dlaw/Sgr/.\n",
    "\n",
    "    Parameters\n",
    "    ----------\n",
    "    representation : `BaseRepresentation` or None\n",
    "        A representation object or None to have no data (or use the other keywords)\n",
    "\n",
    "    Lambda : `Angle`, optional, must be keyword\n",
    "        The longitude-like angle corresponding to Sagittarius' orbit.\n",
    "    Beta : `Angle`, optional, must be keyword\n",
    "        The latitude-like angle corresponding to Sagittarius' orbit.\n",
    "    distance : `Quantity`, optional, must be keyword\n",
    "        The Distance for this object along the line-of-sight.\n",
    "\n",
    "    pm_Lambda_cosBeta : :class:`~astropy.units.Quantity`, optional, must be keyword\n",
    "        The proper motion along the stream in ``Lambda`` (including the\n",
    "        ``cos(Beta)`` factor) for this object (``pm_Beta`` must also be given).\n",
    "    pm_Beta : :class:`~astropy.units.Quantity`, optional, must be keyword\n",
    "        The proper motion in Declination for this object (``pm_ra_cosdec`` must\n",
    "        also be given).\n",
    "    radial_velocity : :class:`~astropy.units.Quantity`, optional, must be keyword\n",
    "        The radial velocity of this object.\n",
    "\n",
    "    \"\"\"\n",
    "    default_representation = coord.SphericalRepresentation\n",
    "    default_differential = coord.SphericalCosLatDifferential\n",
    "\n",
    "    frame_specific_representation_info = {\n",
    "        coord.SphericalRepresentation: [\n",
    "            coord.RepresentationMapping('lon', 'Lambda'),\n",
    "            coord.RepresentationMapping('lat', 'Beta'),\n",
    "            coord.RepresentationMapping('distance', 'distance')],\n",
    "        coord.SphericalCosLatDifferential: [\n",
    "            coord.RepresentationMapping('d_lon_coslat', 'pm_Lambda_cosBeta'),\n",
    "            coord.RepresentationMapping('d_lat', 'pm_Beta'),\n",
    "            coord.RepresentationMapping('d_distance', 'radial_velocity')],\n",
    "        coord.SphericalDifferential: [\n",
    "            coord.RepresentationMapping('d_lon', 'pm_Lambda'),\n",
    "            coord.RepresentationMapping('d_lat', 'pm_Beta'),\n",
    "            coord.RepresentationMapping('d_distance', 'radial_velocity')]\n",
    "    }\n",
    "\n",
    "    frame_specific_representation_info[coord.UnitSphericalRepresentation] = \\\n",
    "        frame_specific_representation_info[coord.SphericalRepresentation]\n",
    "    frame_specific_representation_info[coord.UnitSphericalCosLatDifferential] = \\\n",
    "        frame_specific_representation_info[coord.SphericalCosLatDifferential]\n",
    "    frame_specific_representation_info[coord.UnitSphericalDifferential] = \\\n",
    "        frame_specific_representation_info[coord.SphericalDifferential]"
   ]
  },
  {
   "cell_type": "code",
   "execution_count": null,
   "metadata": {},
   "outputs": [],
   "source": [
    "# Euler angles for the transformation from Law & Majewski 2010\n",
    "SGR_PHI = (180 + 3.75) * u.degree \n",
    "SGR_THETA = (90 - 13.46) * u.degree\n",
    "SGR_PSI = (180 + 14.111534) * u.degree\n",
    "\n",
    "# Generate the rotation matrix using the x-convention (see Goldstein)\n",
    "D = rotation_matrix(SGR_PHI, \"z\")\n",
    "C = rotation_matrix(SGR_THETA, \"x\")\n",
    "B = rotation_matrix(SGR_PSI, \"z\")\n",
    "A = np.diag([1.,1.,-1.])\n",
    "SGR_MATRIX = matrix_product(A, B, C, D)"
   ]
  },
  {
   "cell_type": "code",
   "execution_count": null,
   "metadata": {
    "collapsed": true
   },
   "outputs": [],
   "source": [
    "@frame_transform_graph.transform(coord.StaticMatrixTransform, coord.Galactic, Sagittarius)\n",
    "def galactic_to_sgr():\n",
    "    \"\"\" Compute the transformation matrix from Galactic spherical to\n",
    "        heliocentric Sgr coordinates.\n",
    "    \"\"\"\n",
    "    return SGR_MATRIX\n",
    "\n",
    "@frame_transform_graph.transform(coord.StaticMatrixTransform, Sagittarius, coord.Galactic)\n",
    "def sgr_to_galactic():\n",
    "    \"\"\" Compute the transformation matrix from heliocentric Sgr coordinates to\n",
    "        spherical Galactic.\n",
    "    \"\"\"\n",
    "    return matrix_transpose(SGR_MATRIX)"
   ]
  },
  {
   "cell_type": "code",
   "execution_count": null,
   "metadata": {},
   "outputs": [],
   "source": [
    "icrs = coord.ICRS(ra=8.67*u.hourangle, dec=53.09*u.deg,\n",
    "                  pm_ra_cosdec=21*u.mas/u.yr, \n",
    "                  pm_dec=117*u.mas/u.yr)\n",
    "\n",
    "icrs.transform_to(Sagittarius)"
   ]
  },
  {
   "cell_type": "code",
   "execution_count": null,
   "metadata": {
    "collapsed": true
   },
   "outputs": [],
   "source": []
  }
 ],
 "metadata": {
  "anaconda-cloud": {},
  "kernelspec": {
   "display_name": "Python [default]",
   "language": "python",
   "name": "python3"
  }
 },
 "nbformat": 4,
 "nbformat_minor": 2
}
