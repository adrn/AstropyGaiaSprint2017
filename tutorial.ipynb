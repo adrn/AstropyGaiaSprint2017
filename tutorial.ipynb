{
 "cells": [
  {
   "cell_type": "code",
   "execution_count": 32,
   "metadata": {
    "collapsed": true
   },
   "outputs": [],
   "source": [
    "# Third-party\n",
    "import matplotlib.pyplot as plt\n",
    "import numpy as np\n",
    "plt.style.use('notebook.mplstyle')\n",
    "%matplotlib inline\n",
    "\n",
    "# Astropy\n",
    "import astropy.coordinates as coord\n",
    "import astropy.units as u"
   ]
  },
  {
   "cell_type": "markdown",
   "metadata": {},
   "source": [
    "Support for transforming velocities and proper motions was added to Astropy in v2.0 (released 2017-07-08), so you may need to update your version of Astropy to get the new features. If you use Anaconda (`conda`) for your Python installation, you can just do:\n",
    "\n",
    "```\n",
    "conda update astropy\n",
    "```\n",
    "\n",
    "If you use `pip`, you can do:\n",
    "\n",
    "```\n",
    "pip install --upgrade astropy\n",
    "```\n",
    "\n",
    "If you don't use either, come talk to me..."
   ]
  },
  {
   "cell_type": "markdown",
   "metadata": {},
   "source": [
    "### Links\n",
    "\n",
    "Here are two relevant pages in the Astropy documentation:\n",
    "\n",
    "* [Transform from Heliocentric, spherical velocities (proper motion, etc.) to Galactocentric Cartesian velocities](\n",
    "http://docs.astropy.org/en/latest/generated/examples/coordinates/plot_galactocentric-frame.html#sphx-glr-generated-examples-coordinates-plot-galactocentric-frame-py)\n",
    "* [Working with velocities in astropy.coordinates](http://docs.astropy.org/en/latest/coordinates/velocities.html)"
   ]
  },
  {
   "cell_type": "markdown",
   "metadata": {},
   "source": [
    "## Astropy coordinates terminology\n",
    "\n",
    "* \"Frame\": This is the reference frame of your data. For example, ICRS (RA, Dec), Galactic (l, b), etc. All of the typical astronomical reference frames are implemented as classes in `astropy.coordinates`. For example, ICRS is just `ICRS`, etc. See the [transform graph](http://docs.astropy.org/en/latest/coordinates/index.html#module-astropy.coordinates) for a visualization of all of the frames and the transformations that are defined. The coordinate component names for each frame change depending on the type of frame. So, for `ICRS`->(ra,dec), for `Galactic`->(l,b). You can transform between these frames using the `.transform_to()` method:"
   ]
  },
  {
   "cell_type": "code",
   "execution_count": 33,
   "metadata": {
    "collapsed": true
   },
   "outputs": [],
   "source": [
    "icrs = coord.ICRS(ra=150 * u.degree, dec=-11*u.degree)"
   ]
  },
  {
   "cell_type": "code",
   "execution_count": 34,
   "metadata": {},
   "outputs": [
    {
     "data": {
      "text/plain": [
       "<Galactic Coordinate: (l, b) in deg\n",
       "    ( 249.644697,  33.59995029)>"
      ]
     },
     "execution_count": 34,
     "metadata": {},
     "output_type": "execute_result"
    }
   ],
   "source": [
    "icrs.transform_to(coord.Galactic)"
   ]
  },
  {
   "cell_type": "markdown",
   "metadata": {},
   "source": [
    "All of the values can be arrays or singular values:"
   ]
  },
  {
   "cell_type": "code",
   "execution_count": 35,
   "metadata": {},
   "outputs": [
    {
     "data": {
      "text/plain": [
       "<ICRS Coordinate: (ra, dec) in deg\n",
       "    [( 0.,  0.), ( 1.,  1.), ( 2.,  2.), ( 3.,  3.), ( 4.,  4.),\n",
       "     ( 5.,  5.), ( 6.,  6.), ( 7.,  7.), ( 8.,  8.), ( 9.,  9.)]>"
      ]
     },
     "execution_count": 35,
     "metadata": {},
     "output_type": "execute_result"
    }
   ],
   "source": [
    "icrs = coord.ICRS(ra=np.arange(10) * u.degree, dec=np.arange(10) * u.degree)\n",
    "icrs"
   ]
  },
  {
   "cell_type": "markdown",
   "metadata": {},
   "source": [
    "* \"Representation\": e.g., Cartesian, spherical, cylindrical. This is just a transformation of the data without a change of reference frame. Each frame has a default representation (e.g., for ICRS, Galactic, it's spherical) but that can be changed."
   ]
  },
  {
   "cell_type": "code",
   "execution_count": 44,
   "metadata": {},
   "outputs": [
    {
     "data": {
      "text/plain": [
       "astropy.coordinates.representation.SphericalRepresentation"
      ]
     },
     "execution_count": 44,
     "metadata": {},
     "output_type": "execute_result"
    }
   ],
   "source": [
    "icrs = coord.ICRS(ra=150 * u.degree, dec=-11 * u.degree, distance=10*u.pc)\n",
    "icrs.representation"
   ]
  },
  {
   "cell_type": "code",
   "execution_count": 45,
   "metadata": {
    "collapsed": true
   },
   "outputs": [],
   "source": [
    "icrs.set_representation_cls(coord.CylindricalRepresentation)"
   ]
  },
  {
   "cell_type": "code",
   "execution_count": 46,
   "metadata": {},
   "outputs": [
    {
     "data": {
      "text/plain": [
       "astropy.coordinates.representation.CylindricalRepresentation"
      ]
     },
     "execution_count": 46,
     "metadata": {},
     "output_type": "execute_result"
    }
   ],
   "source": [
    "icrs.representation"
   ]
  },
  {
   "cell_type": "code",
   "execution_count": 47,
   "metadata": {},
   "outputs": [
    {
     "data": {
      "text/plain": [
       "(<Quantity 9.81627183447664 pc>,\n",
       " <Angle 150.0 deg>,\n",
       " <Quantity -1.908089953765448 pc>)"
      ]
     },
     "execution_count": 47,
     "metadata": {},
     "output_type": "execute_result"
    }
   ],
   "source": [
    "icrs.rho, icrs.phi, icrs.z"
   ]
  },
  {
   "cell_type": "markdown",
   "metadata": {},
   "source": [
    "* \"Differential\": Any derivative of the representation. This is how the velocities are currently stored internally, as time derivatives of the representation object. You don't really need to know about the low-level API, but you may see the word \"differential\" in example code."
   ]
  },
  {
   "cell_type": "markdown",
   "metadata": {},
   "source": [
    "Specifying values to the frame classes makes use of the [`astropy.units`](http://docs.astropy.org/en/latest/units/index.html). The primary object in the units subpackage is the [`Quantity`](http://docs.astropy.org/en/latest/units/quantity.html), which are representations of \"number\" or \"array\" data with units. They are typically created by multiplying a unit object with an array or number. For example:"
   ]
  },
  {
   "cell_type": "code",
   "execution_count": 41,
   "metadata": {},
   "outputs": [
    {
     "data": {
      "text/latex": [
       "$15 \\; \\mathrm{km}$"
      ],
      "text/plain": [
       "<Quantity 15.0 km>"
      ]
     },
     "execution_count": 41,
     "metadata": {},
     "output_type": "execute_result"
    }
   ],
   "source": [
    "15 * u.km"
   ]
  },
  {
   "cell_type": "code",
   "execution_count": 42,
   "metadata": {},
   "outputs": [
    {
     "data": {
      "text/latex": [
       "$[1,~0.9998477,~0.99939083,~\\dots, 0.99862953,~0.99939083,~0.9998477] \\; \\mathrm{}$"
      ],
      "text/plain": [
       "<Quantity [  1.00000000e+00,  9.99847695e-01,  9.99390827e-01,\n",
       "             9.98629535e-01,  9.97564050e-01,  9.96194698e-01,\n",
       "             9.94521895e-01,  9.92546152e-01,  9.90268069e-01,\n",
       "             9.87688341e-01,  9.84807753e-01,  9.81627183e-01,\n",
       "             9.78147601e-01,  9.74370065e-01,  9.70295726e-01,\n",
       "             9.65925826e-01,  9.61261696e-01,  9.56304756e-01,\n",
       "             9.51056516e-01,  9.45518576e-01,  9.39692621e-01,\n",
       "             9.33580426e-01,  9.27183855e-01,  9.20504853e-01,\n",
       "             9.13545458e-01,  9.06307787e-01,  8.98794046e-01,\n",
       "             8.91006524e-01,  8.82947593e-01,  8.74619707e-01,\n",
       "             8.66025404e-01,  8.57167301e-01,  8.48048096e-01,\n",
       "             8.38670568e-01,  8.29037573e-01,  8.19152044e-01,\n",
       "             8.09016994e-01,  7.98635510e-01,  7.88010754e-01,\n",
       "             7.77145961e-01,  7.66044443e-01,  7.54709580e-01,\n",
       "             7.43144825e-01,  7.31353702e-01,  7.19339800e-01,\n",
       "             7.07106781e-01,  6.94658370e-01,  6.81998360e-01,\n",
       "             6.69130606e-01,  6.56059029e-01,  6.42787610e-01,\n",
       "             6.29320391e-01,  6.15661475e-01,  6.01815023e-01,\n",
       "             5.87785252e-01,  5.73576436e-01,  5.59192903e-01,\n",
       "             5.44639035e-01,  5.29919264e-01,  5.15038075e-01,\n",
       "             5.00000000e-01,  4.84809620e-01,  4.69471563e-01,\n",
       "             4.53990500e-01,  4.38371147e-01,  4.22618262e-01,\n",
       "             4.06736643e-01,  3.90731128e-01,  3.74606593e-01,\n",
       "             3.58367950e-01,  3.42020143e-01,  3.25568154e-01,\n",
       "             3.09016994e-01,  2.92371705e-01,  2.75637356e-01,\n",
       "             2.58819045e-01,  2.41921896e-01,  2.24951054e-01,\n",
       "             2.07911691e-01,  1.90808995e-01,  1.73648178e-01,\n",
       "             1.56434465e-01,  1.39173101e-01,  1.21869343e-01,\n",
       "             1.04528463e-01,  8.71557427e-02,  6.97564737e-02,\n",
       "             5.23359562e-02,  3.48994967e-02,  1.74524064e-02,\n",
       "             6.12323400e-17, -1.74524064e-02, -3.48994967e-02,\n",
       "            -5.23359562e-02, -6.97564737e-02, -8.71557427e-02,\n",
       "            -1.04528463e-01, -1.21869343e-01, -1.39173101e-01,\n",
       "            -1.56434465e-01, -1.73648178e-01, -1.90808995e-01,\n",
       "            -2.07911691e-01, -2.24951054e-01, -2.41921896e-01,\n",
       "            -2.58819045e-01, -2.75637356e-01, -2.92371705e-01,\n",
       "            -3.09016994e-01, -3.25568154e-01, -3.42020143e-01,\n",
       "            -3.58367950e-01, -3.74606593e-01, -3.90731128e-01,\n",
       "            -4.06736643e-01, -4.22618262e-01, -4.38371147e-01,\n",
       "            -4.53990500e-01, -4.69471563e-01, -4.84809620e-01,\n",
       "            -5.00000000e-01, -5.15038075e-01, -5.29919264e-01,\n",
       "            -5.44639035e-01, -5.59192903e-01, -5.73576436e-01,\n",
       "            -5.87785252e-01, -6.01815023e-01, -6.15661475e-01,\n",
       "            -6.29320391e-01, -6.42787610e-01, -6.56059029e-01,\n",
       "            -6.69130606e-01, -6.81998360e-01, -6.94658370e-01,\n",
       "            -7.07106781e-01, -7.19339800e-01, -7.31353702e-01,\n",
       "            -7.43144825e-01, -7.54709580e-01, -7.66044443e-01,\n",
       "            -7.77145961e-01, -7.88010754e-01, -7.98635510e-01,\n",
       "            -8.09016994e-01, -8.19152044e-01, -8.29037573e-01,\n",
       "            -8.38670568e-01, -8.48048096e-01, -8.57167301e-01,\n",
       "            -8.66025404e-01, -8.74619707e-01, -8.82947593e-01,\n",
       "            -8.91006524e-01, -8.98794046e-01, -9.06307787e-01,\n",
       "            -9.13545458e-01, -9.20504853e-01, -9.27183855e-01,\n",
       "            -9.33580426e-01, -9.39692621e-01, -9.45518576e-01,\n",
       "            -9.51056516e-01, -9.56304756e-01, -9.61261696e-01,\n",
       "            -9.65925826e-01, -9.70295726e-01, -9.74370065e-01,\n",
       "            -9.78147601e-01, -9.81627183e-01, -9.84807753e-01,\n",
       "            -9.87688341e-01, -9.90268069e-01, -9.92546152e-01,\n",
       "            -9.94521895e-01, -9.96194698e-01, -9.97564050e-01,\n",
       "            -9.98629535e-01, -9.99390827e-01, -9.99847695e-01,\n",
       "            -1.00000000e+00, -9.99847695e-01, -9.99390827e-01,\n",
       "            -9.98629535e-01, -9.97564050e-01, -9.96194698e-01,\n",
       "            -9.94521895e-01, -9.92546152e-01, -9.90268069e-01,\n",
       "            -9.87688341e-01, -9.84807753e-01, -9.81627183e-01,\n",
       "            -9.78147601e-01, -9.74370065e-01, -9.70295726e-01,\n",
       "            -9.65925826e-01, -9.61261696e-01, -9.56304756e-01,\n",
       "            -9.51056516e-01, -9.45518576e-01, -9.39692621e-01,\n",
       "            -9.33580426e-01, -9.27183855e-01, -9.20504853e-01,\n",
       "            -9.13545458e-01, -9.06307787e-01, -8.98794046e-01,\n",
       "            -8.91006524e-01, -8.82947593e-01, -8.74619707e-01,\n",
       "            -8.66025404e-01, -8.57167301e-01, -8.48048096e-01,\n",
       "            -8.38670568e-01, -8.29037573e-01, -8.19152044e-01,\n",
       "            -8.09016994e-01, -7.98635510e-01, -7.88010754e-01,\n",
       "            -7.77145961e-01, -7.66044443e-01, -7.54709580e-01,\n",
       "            -7.43144825e-01, -7.31353702e-01, -7.19339800e-01,\n",
       "            -7.07106781e-01, -6.94658370e-01, -6.81998360e-01,\n",
       "            -6.69130606e-01, -6.56059029e-01, -6.42787610e-01,\n",
       "            -6.29320391e-01, -6.15661475e-01, -6.01815023e-01,\n",
       "            -5.87785252e-01, -5.73576436e-01, -5.59192903e-01,\n",
       "            -5.44639035e-01, -5.29919264e-01, -5.15038075e-01,\n",
       "            -5.00000000e-01, -4.84809620e-01, -4.69471563e-01,\n",
       "            -4.53990500e-01, -4.38371147e-01, -4.22618262e-01,\n",
       "            -4.06736643e-01, -3.90731128e-01, -3.74606593e-01,\n",
       "            -3.58367950e-01, -3.42020143e-01, -3.25568154e-01,\n",
       "            -3.09016994e-01, -2.92371705e-01, -2.75637356e-01,\n",
       "            -2.58819045e-01, -2.41921896e-01, -2.24951054e-01,\n",
       "            -2.07911691e-01, -1.90808995e-01, -1.73648178e-01,\n",
       "            -1.56434465e-01, -1.39173101e-01, -1.21869343e-01,\n",
       "            -1.04528463e-01, -8.71557427e-02, -6.97564737e-02,\n",
       "            -5.23359562e-02, -3.48994967e-02, -1.74524064e-02,\n",
       "            -1.83697020e-16,  1.74524064e-02,  3.48994967e-02,\n",
       "             5.23359562e-02,  6.97564737e-02,  8.71557427e-02,\n",
       "             1.04528463e-01,  1.21869343e-01,  1.39173101e-01,\n",
       "             1.56434465e-01,  1.73648178e-01,  1.90808995e-01,\n",
       "             2.07911691e-01,  2.24951054e-01,  2.41921896e-01,\n",
       "             2.58819045e-01,  2.75637356e-01,  2.92371705e-01,\n",
       "             3.09016994e-01,  3.25568154e-01,  3.42020143e-01,\n",
       "             3.58367950e-01,  3.74606593e-01,  3.90731128e-01,\n",
       "             4.06736643e-01,  4.22618262e-01,  4.38371147e-01,\n",
       "             4.53990500e-01,  4.69471563e-01,  4.84809620e-01,\n",
       "             5.00000000e-01,  5.15038075e-01,  5.29919264e-01,\n",
       "             5.44639035e-01,  5.59192903e-01,  5.73576436e-01,\n",
       "             5.87785252e-01,  6.01815023e-01,  6.15661475e-01,\n",
       "             6.29320391e-01,  6.42787610e-01,  6.56059029e-01,\n",
       "             6.69130606e-01,  6.81998360e-01,  6.94658370e-01,\n",
       "             7.07106781e-01,  7.19339800e-01,  7.31353702e-01,\n",
       "             7.43144825e-01,  7.54709580e-01,  7.66044443e-01,\n",
       "             7.77145961e-01,  7.88010754e-01,  7.98635510e-01,\n",
       "             8.09016994e-01,  8.19152044e-01,  8.29037573e-01,\n",
       "             8.38670568e-01,  8.48048096e-01,  8.57167301e-01,\n",
       "             8.66025404e-01,  8.74619707e-01,  8.82947593e-01,\n",
       "             8.91006524e-01,  8.98794046e-01,  9.06307787e-01,\n",
       "             9.13545458e-01,  9.20504853e-01,  9.27183855e-01,\n",
       "             9.33580426e-01,  9.39692621e-01,  9.45518576e-01,\n",
       "             9.51056516e-01,  9.56304756e-01,  9.61261696e-01,\n",
       "             9.65925826e-01,  9.70295726e-01,  9.74370065e-01,\n",
       "             9.78147601e-01,  9.81627183e-01,  9.84807753e-01,\n",
       "             9.87688341e-01,  9.90268069e-01,  9.92546152e-01,\n",
       "             9.94521895e-01,  9.96194698e-01,  9.97564050e-01,\n",
       "             9.98629535e-01,  9.99390827e-01,  9.99847695e-01]>"
      ]
     },
     "execution_count": 42,
     "metadata": {},
     "output_type": "execute_result"
    }
   ],
   "source": [
    "angle = np.arange(360) * u.degree\n",
    "np.cos(angle)"
   ]
  },
  {
   "cell_type": "code",
   "execution_count": 43,
   "metadata": {},
   "outputs": [
    {
     "data": {
      "text/plain": [
       "(Unit(\"deg\"),\n",
       " array([   0.,    1.,    2.,    3.,    4.,    5.,    6.,    7.,    8.,\n",
       "           9.,   10.,   11.,   12.,   13.,   14.,   15.,   16.,   17.,\n",
       "          18.,   19.,   20.,   21.,   22.,   23.,   24.,   25.,   26.,\n",
       "          27.,   28.,   29.,   30.,   31.,   32.,   33.,   34.,   35.,\n",
       "          36.,   37.,   38.,   39.,   40.,   41.,   42.,   43.,   44.,\n",
       "          45.,   46.,   47.,   48.,   49.,   50.,   51.,   52.,   53.,\n",
       "          54.,   55.,   56.,   57.,   58.,   59.,   60.,   61.,   62.,\n",
       "          63.,   64.,   65.,   66.,   67.,   68.,   69.,   70.,   71.,\n",
       "          72.,   73.,   74.,   75.,   76.,   77.,   78.,   79.,   80.,\n",
       "          81.,   82.,   83.,   84.,   85.,   86.,   87.,   88.,   89.,\n",
       "          90.,   91.,   92.,   93.,   94.,   95.,   96.,   97.,   98.,\n",
       "          99.,  100.,  101.,  102.,  103.,  104.,  105.,  106.,  107.,\n",
       "         108.,  109.,  110.,  111.,  112.,  113.,  114.,  115.,  116.,\n",
       "         117.,  118.,  119.,  120.,  121.,  122.,  123.,  124.,  125.,\n",
       "         126.,  127.,  128.,  129.,  130.,  131.,  132.,  133.,  134.,\n",
       "         135.,  136.,  137.,  138.,  139.,  140.,  141.,  142.,  143.,\n",
       "         144.,  145.,  146.,  147.,  148.,  149.,  150.,  151.,  152.,\n",
       "         153.,  154.,  155.,  156.,  157.,  158.,  159.,  160.,  161.,\n",
       "         162.,  163.,  164.,  165.,  166.,  167.,  168.,  169.,  170.,\n",
       "         171.,  172.,  173.,  174.,  175.,  176.,  177.,  178.,  179.,\n",
       "         180.,  181.,  182.,  183.,  184.,  185.,  186.,  187.,  188.,\n",
       "         189.,  190.,  191.,  192.,  193.,  194.,  195.,  196.,  197.,\n",
       "         198.,  199.,  200.,  201.,  202.,  203.,  204.,  205.,  206.,\n",
       "         207.,  208.,  209.,  210.,  211.,  212.,  213.,  214.,  215.,\n",
       "         216.,  217.,  218.,  219.,  220.,  221.,  222.,  223.,  224.,\n",
       "         225.,  226.,  227.,  228.,  229.,  230.,  231.,  232.,  233.,\n",
       "         234.,  235.,  236.,  237.,  238.,  239.,  240.,  241.,  242.,\n",
       "         243.,  244.,  245.,  246.,  247.,  248.,  249.,  250.,  251.,\n",
       "         252.,  253.,  254.,  255.,  256.,  257.,  258.,  259.,  260.,\n",
       "         261.,  262.,  263.,  264.,  265.,  266.,  267.,  268.,  269.,\n",
       "         270.,  271.,  272.,  273.,  274.,  275.,  276.,  277.,  278.,\n",
       "         279.,  280.,  281.,  282.,  283.,  284.,  285.,  286.,  287.,\n",
       "         288.,  289.,  290.,  291.,  292.,  293.,  294.,  295.,  296.,\n",
       "         297.,  298.,  299.,  300.,  301.,  302.,  303.,  304.,  305.,\n",
       "         306.,  307.,  308.,  309.,  310.,  311.,  312.,  313.,  314.,\n",
       "         315.,  316.,  317.,  318.,  319.,  320.,  321.,  322.,  323.,\n",
       "         324.,  325.,  326.,  327.,  328.,  329.,  330.,  331.,  332.,\n",
       "         333.,  334.,  335.,  336.,  337.,  338.,  339.,  340.,  341.,\n",
       "         342.,  343.,  344.,  345.,  346.,  347.,  348.,  349.,  350.,\n",
       "         351.,  352.,  353.,  354.,  355.,  356.,  357.,  358.,  359.]))"
      ]
     },
     "execution_count": 43,
     "metadata": {},
     "output_type": "execute_result"
    }
   ],
   "source": [
    "angle.unit, angle.value"
   ]
  },
  {
   "cell_type": "code",
   "execution_count": 48,
   "metadata": {},
   "outputs": [
    {
     "data": {
      "text/latex": [
       "$[0,~1,~2,~3,~4,~5,~6,~7,~8,~9] \\; \\mathrm{kpc}$"
      ],
      "text/plain": [
       "<Quantity [ 0., 1., 2., 3., 4., 5., 6., 7., 8., 9.] kpc>"
      ]
     },
     "execution_count": 48,
     "metadata": {},
     "output_type": "execute_result"
    }
   ],
   "source": [
    "dist = np.arange(10) * u.kpc\n",
    "dist"
   ]
  },
  {
   "cell_type": "markdown",
   "metadata": {},
   "source": [
    "Arithmetic with these objects preserves the units and carries them along:"
   ]
  },
  {
   "cell_type": "code",
   "execution_count": 49,
   "metadata": {},
   "outputs": [
    {
     "data": {
      "text/latex": [
       "$[0,~0.066666667,~0.13333333,~0.2,~0.26666667,~0.33333333,~0.4,~0.46666667,~0.53333333,~0.6] \\; \\mathrm{\\frac{kpc}{Myr}}$"
      ],
      "text/plain": [
       "<Quantity [ 0.        , 0.06666667, 0.13333333, 0.2       , 0.26666667,\n",
       "            0.33333333, 0.4       , 0.46666667, 0.53333333, 0.6       ] kpc / Myr>"
      ]
     },
     "execution_count": 49,
     "metadata": {},
     "output_type": "execute_result"
    }
   ],
   "source": [
    "dist / (15*u.Myr)"
   ]
  },
  {
   "cell_type": "markdown",
   "metadata": {},
   "source": [
    "And the units can be re-represented using the `.to()` method:"
   ]
  },
  {
   "cell_type": "code",
   "execution_count": 50,
   "metadata": {},
   "outputs": [
    {
     "data": {
      "text/latex": [
       "$[0,~65.186148,~130.3723,~195.55844,~260.74459,~325.93074,~391.11689,~456.30304,~521.48918,~586.67533] \\; \\mathrm{\\frac{km}{s}}$"
      ],
      "text/plain": [
       "<Quantity [   0.        ,  65.18614811, 130.37229622, 195.55844433,\n",
       "            260.74459245, 325.93074056, 391.11688867, 456.30303678,\n",
       "            521.48918489, 586.675333  ] km / s>"
      ]
     },
     "execution_count": 50,
     "metadata": {},
     "output_type": "execute_result"
    }
   ],
   "source": [
    "v = dist / (15*u.Myr)\n",
    "v.to(u.km/u.s)"
   ]
  },
  {
   "cell_type": "code",
   "execution_count": 52,
   "metadata": {},
   "outputs": [
    {
     "data": {
      "text/plain": [
       "1.9884754153381438e+30"
      ]
     },
     "execution_count": 52,
     "metadata": {},
     "output_type": "execute_result"
    }
   ],
   "source": [
    "(1*u.Msun).to(u.kg).value"
   ]
  },
  {
   "cell_type": "code",
   "execution_count": 57,
   "metadata": {},
   "outputs": [
    {
     "data": {
      "text/plain": [
       "\"<<class 'astropy.constants.iau2015.IAU2015'> name='Solar mass' value=1.9884754153381438e+30 uncertainty=9.236140093538353e+25 unit='kg' reference='IAU 2015 Resolution B 3 + CODATA 2014'>\""
      ]
     },
     "execution_count": 57,
     "metadata": {},
     "output_type": "execute_result"
    }
   ],
   "source": [
    "repr(M_sun)"
   ]
  },
  {
   "cell_type": "code",
   "execution_count": 58,
   "metadata": {},
   "outputs": [
    {
     "data": {
      "text/plain": [
       "\"<<class 'astropy.constants.iau2015.IAU2015'> name='Astronomical Unit' value=149597870700.0 uncertainty=0.0 unit='m' reference='IAU 2012 Resolution B2'>\""
      ]
     },
     "execution_count": 58,
     "metadata": {},
     "output_type": "execute_result"
    }
   ],
   "source": [
    "repr(au)"
   ]
  },
  {
   "cell_type": "markdown",
   "metadata": {},
   "source": [
    "----\n",
    "\n",
    "### Passing velocity components to the coordinate frames\n",
    "\n",
    "With the default (spherical) representations for most frames, the velocity components are specified as `pm_XX_cosYY`, `pm_YY`, and `radial_velocity`. For example, for the ICRS frame (which is Barycentric):"
   ]
  },
  {
   "cell_type": "code",
   "execution_count": 62,
   "metadata": {},
   "outputs": [
    {
     "data": {
      "text/plain": [
       "<ICRS Coordinate: (ra, dec) in deg\n",
       "    ( 130.05,  53.09)\n",
       " (pm_ra_cosdec, pm_dec) in mas / yr\n",
       "    ( 21.,  117.)>"
      ]
     },
     "execution_count": 62,
     "metadata": {},
     "output_type": "execute_result"
    }
   ],
   "source": [
    "coord.ICRS(ra=8.67*u.hourangle, dec=53.09*u.deg,\n",
    "           pm_ra_cosdec=21*u.mas/u.yr, \n",
    "           pm_dec=117*u.mas/u.yr)"
   ]
  },
  {
   "cell_type": "code",
   "execution_count": 63,
   "metadata": {},
   "outputs": [
    {
     "data": {
      "text/plain": [
       "<ICRS Coordinate: (ra, dec) in deg\n",
       "    ( 130.05,  53.09)\n",
       " (pm_ra, pm_dec) in mas / yr\n",
       "    ( 21.,  117.)>"
      ]
     },
     "execution_count": 63,
     "metadata": {},
     "output_type": "execute_result"
    }
   ],
   "source": [
    "coord.ICRS(ra=8.67*u.hourangle, dec=53.09*u.deg,\n",
    "           pm_ra=21*u.mas/u.yr, \n",
    "           pm_dec=117*u.mas/u.yr,\n",
    "           differential_cls=coord.SphericalDifferential)"
   ]
  },
  {
   "cell_type": "code",
   "execution_count": 64,
   "metadata": {},
   "outputs": [
    {
     "data": {
      "text/plain": [
       "<ICRS Coordinate: (ra, dec) in deg\n",
       "    ( 130.05,  53.09)\n",
       " (pm_ra_cosdec, pm_dec, radial_velocity) in (mas / yr, mas / yr, km / s)\n",
       "    ( 21.,  117.,  71.)>"
      ]
     },
     "execution_count": 64,
     "metadata": {},
     "output_type": "execute_result"
    }
   ],
   "source": [
    "coord.ICRS(ra=8.67*u.hourangle, dec=53.09*u.deg,\n",
    "           pm_ra_cosdec=21*u.mas/u.yr, \n",
    "           pm_dec=117*u.mas/u.yr,\n",
    "           radial_velocity=71*u.km/u.s)"
   ]
  },
  {
   "cell_type": "markdown",
   "metadata": {},
   "source": [
    "Only some frame transformations are supported when incomplete position or velocity data are passed. For example, with only sky position and proper motions, we can only transform to other frames that include a spherical rotation:"
   ]
  },
  {
   "cell_type": "code",
   "execution_count": 65,
   "metadata": {},
   "outputs": [
    {
     "data": {
      "text/plain": [
       "<Galactic Coordinate: (l, b) in deg\n",
       "    ( 165.26050548,  37.5050663)\n",
       " (pm_l_cosb, pm_b) in mas / yr\n",
       "    (-118.11358595,  13.3858438)>"
      ]
     },
     "execution_count": 65,
     "metadata": {},
     "output_type": "execute_result"
    }
   ],
   "source": [
    "icrs = coord.ICRS(ra=8.67*u.hourangle, dec=53.09*u.deg,\n",
    "                  pm_ra_cosdec=21*u.mas/u.yr, \n",
    "                  pm_dec=117*u.mas/u.yr)\n",
    "\n",
    "icrs.transform_to(coord.Galactic)"
   ]
  },
  {
   "cell_type": "markdown",
   "metadata": {},
   "source": [
    "Without a distance or a radial velocity, transforming to any frame that requires a position or velocity offset will fail. For example, with the above, we can't transform to a `Galactocentric` frame:"
   ]
  },
  {
   "cell_type": "code",
   "execution_count": 67,
   "metadata": {},
   "outputs": [
    {
     "name": "stderr",
     "output_type": "stream",
     "text": [
      "ERROR: ConvertError: Transforming to/from a Galactocentric frame requires a 3D coordinate, e.g. (angle, angle, distance) or (x, y, z). [astropy.coordinates.builtin_frames.galactocentric]\n"
     ]
    },
    {
     "ename": "ConvertError",
     "evalue": "Transforming to/from a Galactocentric frame requires a 3D coordinate, e.g. (angle, angle, distance) or (x, y, z).",
     "output_type": "error",
     "traceback": [
      "\u001b[0;31m---------------------------------------------------------------------------\u001b[0m",
      "\u001b[0;31mConvertError\u001b[0m                              Traceback (most recent call last)",
      "\u001b[0;32m<ipython-input-67-7c1cecb6cbde>\u001b[0m in \u001b[0;36m<module>\u001b[0;34m()\u001b[0m\n\u001b[1;32m      2\u001b[0m                   \u001b[0mpm_ra_cosdec\u001b[0m\u001b[0;34m=\u001b[0m\u001b[0;36m21\u001b[0m\u001b[0;34m*\u001b[0m\u001b[0mu\u001b[0m\u001b[0;34m.\u001b[0m\u001b[0mmas\u001b[0m\u001b[0;34m/\u001b[0m\u001b[0mu\u001b[0m\u001b[0;34m.\u001b[0m\u001b[0myr\u001b[0m\u001b[0;34m,\u001b[0m\u001b[0;34m\u001b[0m\u001b[0m\n\u001b[1;32m      3\u001b[0m                   pm_dec=117*u.mas/u.yr)\n\u001b[0;32m----> 4\u001b[0;31m \u001b[0micrs\u001b[0m\u001b[0;34m.\u001b[0m\u001b[0mtransform_to\u001b[0m\u001b[0;34m(\u001b[0m\u001b[0mcoord\u001b[0m\u001b[0;34m.\u001b[0m\u001b[0mGalactocentric\u001b[0m\u001b[0;34m)\u001b[0m\u001b[0;34m\u001b[0m\u001b[0m\n\u001b[0m",
      "\u001b[0;32m/Users/adrian/anaconda/lib/python3.5/site-packages/astropy/coordinates/baseframe.py\u001b[0m in \u001b[0;36mtransform_to\u001b[0;34m(self, new_frame)\u001b[0m\n\u001b[1;32m    932\u001b[0m             \u001b[0mmsg\u001b[0m \u001b[0;34m=\u001b[0m \u001b[0;34m'Cannot transform from {0} to {1}'\u001b[0m\u001b[0;34m\u001b[0m\u001b[0m\n\u001b[1;32m    933\u001b[0m             \u001b[0;32mraise\u001b[0m \u001b[0mConvertError\u001b[0m\u001b[0;34m(\u001b[0m\u001b[0mmsg\u001b[0m\u001b[0;34m.\u001b[0m\u001b[0mformat\u001b[0m\u001b[0;34m(\u001b[0m\u001b[0mself\u001b[0m\u001b[0;34m.\u001b[0m\u001b[0m__class__\u001b[0m\u001b[0;34m,\u001b[0m \u001b[0mnew_frame\u001b[0m\u001b[0;34m.\u001b[0m\u001b[0m__class__\u001b[0m\u001b[0;34m)\u001b[0m\u001b[0;34m)\u001b[0m\u001b[0;34m\u001b[0m\u001b[0m\n\u001b[0;32m--> 934\u001b[0;31m         \u001b[0;32mreturn\u001b[0m \u001b[0mtrans\u001b[0m\u001b[0;34m(\u001b[0m\u001b[0mself\u001b[0m\u001b[0;34m,\u001b[0m \u001b[0mnew_frame\u001b[0m\u001b[0;34m)\u001b[0m\u001b[0;34m\u001b[0m\u001b[0m\n\u001b[0m\u001b[1;32m    935\u001b[0m \u001b[0;34m\u001b[0m\u001b[0m\n\u001b[1;32m    936\u001b[0m     \u001b[0;32mdef\u001b[0m \u001b[0mis_transformable_to\u001b[0m\u001b[0;34m(\u001b[0m\u001b[0mself\u001b[0m\u001b[0;34m,\u001b[0m \u001b[0mnew_frame\u001b[0m\u001b[0;34m)\u001b[0m\u001b[0;34m:\u001b[0m\u001b[0;34m\u001b[0m\u001b[0m\n",
      "\u001b[0;32m/Users/adrian/anaconda/lib/python3.5/site-packages/astropy/coordinates/transformations.py\u001b[0m in \u001b[0;36m__call__\u001b[0;34m(self, fromcoord, toframe)\u001b[0m\n\u001b[1;32m   1312\u001b[0m \u001b[0;34m\u001b[0m\u001b[0m\n\u001b[1;32m   1313\u001b[0m             \u001b[0mcurr_toframe\u001b[0m \u001b[0;34m=\u001b[0m \u001b[0mt\u001b[0m\u001b[0;34m.\u001b[0m\u001b[0mtosys\u001b[0m\u001b[0;34m(\u001b[0m\u001b[0;34m**\u001b[0m\u001b[0mfrattrs\u001b[0m\u001b[0;34m)\u001b[0m\u001b[0;34m\u001b[0m\u001b[0m\n\u001b[0;32m-> 1314\u001b[0;31m             \u001b[0mcurr_coord\u001b[0m \u001b[0;34m=\u001b[0m \u001b[0mt\u001b[0m\u001b[0;34m(\u001b[0m\u001b[0mcurr_coord\u001b[0m\u001b[0;34m,\u001b[0m \u001b[0mcurr_toframe\u001b[0m\u001b[0;34m)\u001b[0m\u001b[0;34m\u001b[0m\u001b[0m\n\u001b[0m\u001b[1;32m   1315\u001b[0m \u001b[0;34m\u001b[0m\u001b[0m\n\u001b[1;32m   1316\u001b[0m         \u001b[0;31m# this is safe even in the case where self.transforms is empty, because\u001b[0m\u001b[0;34m\u001b[0m\u001b[0;34m\u001b[0m\u001b[0m\n",
      "\u001b[0;32m/Users/adrian/anaconda/lib/python3.5/site-packages/astropy/coordinates/transformations.py\u001b[0m in \u001b[0;36m__call__\u001b[0;34m(self, fromcoord, toframe)\u001b[0m\n\u001b[1;32m   1127\u001b[0m     \u001b[0;32mdef\u001b[0m \u001b[0m__call__\u001b[0m\u001b[0;34m(\u001b[0m\u001b[0mself\u001b[0m\u001b[0;34m,\u001b[0m \u001b[0mfromcoord\u001b[0m\u001b[0;34m,\u001b[0m \u001b[0mtoframe\u001b[0m\u001b[0;34m)\u001b[0m\u001b[0;34m:\u001b[0m\u001b[0;34m\u001b[0m\u001b[0m\n\u001b[1;32m   1128\u001b[0m \u001b[0;34m\u001b[0m\u001b[0m\n\u001b[0;32m-> 1129\u001b[0;31m         \u001b[0mM\u001b[0m\u001b[0;34m,\u001b[0m \u001b[0mvec\u001b[0m \u001b[0;34m=\u001b[0m \u001b[0mself\u001b[0m\u001b[0;34m.\u001b[0m\u001b[0mtransform_func\u001b[0m\u001b[0;34m(\u001b[0m\u001b[0mfromcoord\u001b[0m\u001b[0;34m,\u001b[0m \u001b[0mtoframe\u001b[0m\u001b[0;34m)\u001b[0m\u001b[0;34m\u001b[0m\u001b[0m\n\u001b[0m\u001b[1;32m   1130\u001b[0m         \u001b[0mnewrep\u001b[0m \u001b[0;34m=\u001b[0m \u001b[0mself\u001b[0m\u001b[0;34m.\u001b[0m\u001b[0m_apply_transform\u001b[0m\u001b[0;34m(\u001b[0m\u001b[0mfromcoord\u001b[0m\u001b[0;34m,\u001b[0m \u001b[0mM\u001b[0m\u001b[0;34m,\u001b[0m \u001b[0mvec\u001b[0m\u001b[0;34m)\u001b[0m\u001b[0;34m\u001b[0m\u001b[0m\n\u001b[1;32m   1131\u001b[0m \u001b[0;34m\u001b[0m\u001b[0m\n",
      "\u001b[0;32m/Users/adrian/anaconda/lib/python3.5/site-packages/astropy/coordinates/builtin_frames/galactocentric.py\u001b[0m in \u001b[0;36micrs_to_galactocentric\u001b[0;34m(icrs_coord, galactocentric_frame)\u001b[0m\n\u001b[1;32m    302\u001b[0m \u001b[0;34m@\u001b[0m\u001b[0mframe_transform_graph\u001b[0m\u001b[0;34m.\u001b[0m\u001b[0mtransform\u001b[0m\u001b[0;34m(\u001b[0m\u001b[0mAffineTransform\u001b[0m\u001b[0;34m,\u001b[0m \u001b[0mICRS\u001b[0m\u001b[0;34m,\u001b[0m \u001b[0mGalactocentric\u001b[0m\u001b[0;34m)\u001b[0m\u001b[0;34m\u001b[0m\u001b[0m\n\u001b[1;32m    303\u001b[0m \u001b[0;32mdef\u001b[0m \u001b[0micrs_to_galactocentric\u001b[0m\u001b[0;34m(\u001b[0m\u001b[0micrs_coord\u001b[0m\u001b[0;34m,\u001b[0m \u001b[0mgalactocentric_frame\u001b[0m\u001b[0;34m)\u001b[0m\u001b[0;34m:\u001b[0m\u001b[0;34m\u001b[0m\u001b[0m\n\u001b[0;32m--> 304\u001b[0;31m     \u001b[0m_check_coord_repr_diff_types\u001b[0m\u001b[0;34m(\u001b[0m\u001b[0micrs_coord\u001b[0m\u001b[0;34m)\u001b[0m\u001b[0;34m\u001b[0m\u001b[0m\n\u001b[0m\u001b[1;32m    305\u001b[0m     \u001b[0;32mreturn\u001b[0m \u001b[0mget_matrix_vectors\u001b[0m\u001b[0;34m(\u001b[0m\u001b[0mgalactocentric_frame\u001b[0m\u001b[0;34m)\u001b[0m\u001b[0;34m\u001b[0m\u001b[0m\n\u001b[1;32m    306\u001b[0m \u001b[0;34m\u001b[0m\u001b[0m\n",
      "\u001b[0;32m/Users/adrian/anaconda/lib/python3.5/site-packages/astropy/coordinates/builtin_frames/galactocentric.py\u001b[0m in \u001b[0;36m_check_coord_repr_diff_types\u001b[0;34m(c)\u001b[0m\n\u001b[1;32m    286\u001b[0m \u001b[0;32mdef\u001b[0m \u001b[0m_check_coord_repr_diff_types\u001b[0m\u001b[0;34m(\u001b[0m\u001b[0mc\u001b[0m\u001b[0;34m)\u001b[0m\u001b[0;34m:\u001b[0m\u001b[0;34m\u001b[0m\u001b[0m\n\u001b[1;32m    287\u001b[0m     \u001b[0;32mif\u001b[0m \u001b[0misinstance\u001b[0m\u001b[0;34m(\u001b[0m\u001b[0mc\u001b[0m\u001b[0;34m.\u001b[0m\u001b[0mdata\u001b[0m\u001b[0;34m,\u001b[0m \u001b[0mr\u001b[0m\u001b[0;34m.\u001b[0m\u001b[0mUnitSphericalRepresentation\u001b[0m\u001b[0;34m)\u001b[0m\u001b[0;34m:\u001b[0m\u001b[0;34m\u001b[0m\u001b[0m\n\u001b[0;32m--> 288\u001b[0;31m         raise ConvertError(\"Transforming to/from a Galactocentric frame \"\n\u001b[0m\u001b[1;32m    289\u001b[0m                            \u001b[0;34m\"requires a 3D coordinate, e.g. (angle, angle, \"\u001b[0m\u001b[0;34m\u001b[0m\u001b[0m\n\u001b[1;32m    290\u001b[0m                            \"distance) or (x, y, z).\")\n",
      "\u001b[0;31mConvertError\u001b[0m: Transforming to/from a Galactocentric frame requires a 3D coordinate, e.g. (angle, angle, distance) or (x, y, z)."
     ]
    }
   ],
   "source": [
    "icrs = coord.ICRS(ra=8.67*u.hourangle, dec=53.09*u.deg,\n",
    "                  pm_ra_cosdec=21*u.mas/u.yr, \n",
    "                  pm_dec=117*u.mas/u.yr)\n",
    "icrs.transform_to(coord.Galactocentric)"
   ]
  },
  {
   "cell_type": "markdown",
   "metadata": {},
   "source": [
    "But if we specify these other components:"
   ]
  },
  {
   "cell_type": "code",
   "execution_count": 69,
   "metadata": {},
   "outputs": [
    {
     "data": {
      "text/latex": [
       "$12^\\mathrm{h}03^\\mathrm{m}17.2^\\mathrm{s}$"
      ],
      "text/plain": [
       "<Angle 12.054777777777778 hourangle>"
      ]
     },
     "execution_count": 69,
     "metadata": {},
     "output_type": "execute_result"
    }
   ],
   "source": [
    "coord.Angle('12h 03m 17.2s')"
   ]
  },
  {
   "cell_type": "code",
   "execution_count": 74,
   "metadata": {},
   "outputs": [
    {
     "data": {
      "text/latex": [
       "$12^\\circ03{}^\\prime17.2{}^{\\prime\\prime}$"
      ],
      "text/plain": [
       "<Angle 12.054777777777778 deg>"
      ]
     },
     "execution_count": 74,
     "metadata": {},
     "output_type": "execute_result"
    }
   ],
   "source": [
    "coord.Angle('+12d 03m 17.2s')"
   ]
  },
  {
   "cell_type": "code",
   "execution_count": 75,
   "metadata": {
    "collapsed": true
   },
   "outputs": [],
   "source": [
    "icrs = coord.ICRS(ra=coord.Angle('12h 03m 17.2s'), dec=53.09*u.deg,\n",
    "                  distance=150*u.pc,\n",
    "                  pm_ra_cosdec=21*u.mas/u.yr, \n",
    "                  pm_dec=117*u.mas/u.yr,\n",
    "                  radial_velocity=21*u.km/u.s)\n",
    "gc = icrs.transform_to(coord.Galactocentric)"
   ]
  },
  {
   "cell_type": "code",
   "execution_count": 76,
   "metadata": {},
   "outputs": [
    {
     "data": {
      "text/plain": [
       "<Galactocentric Coordinate (galcen_coord=<ICRS Coordinate: (ra, dec) in deg\n",
       "    ( 266.4051, -28.936175)>, galcen_distance=8.3 kpc, galcen_v_sun=( 11.1,  232.24,  7.25) km / s, z_sun=27.0 pc, roll=0.0 deg): (x, y, z) in pc\n",
       "    (-8414.73761104,  30.27521311,  118.6984873)\n",
       " (v_x, v_y, v_z) in km / s\n",
       "    ( 22.02778588,  316.22739384,  27.55100774)>"
      ]
     },
     "execution_count": 76,
     "metadata": {},
     "output_type": "execute_result"
    }
   ],
   "source": [
    "icrs = coord.ICRS(ra=8.67*u.hourangle, dec=53.09*u.deg,\n",
    "                  distance=150*u.pc,\n",
    "                  pm_ra_cosdec=21*u.mas/u.yr, \n",
    "                  pm_dec=117*u.mas/u.yr,\n",
    "                  radial_velocity=21*u.km/u.s)\n",
    "gc = icrs.transform_to(coord.Galactocentric)\n",
    "gc"
   ]
  },
  {
   "cell_type": "markdown",
   "metadata": {},
   "source": [
    "The default Galactocentric frame has the parameters:"
   ]
  },
  {
   "cell_type": "code",
   "execution_count": 77,
   "metadata": {},
   "outputs": [
    {
     "name": "stdout",
     "output_type": "stream",
     "text": [
      "8.3 kpc ( 11.1,  232.24,  7.25) km / s 27.0 pc\n"
     ]
    }
   ],
   "source": [
    "print(gc.galcen_distance, gc.galcen_v_sun, gc.z_sun)"
   ]
  },
  {
   "cell_type": "markdown",
   "metadata": {},
   "source": [
    "The default representation for the Galactocentric frame is Cartesian, but we can change to, e.g., cylindrical:"
   ]
  },
  {
   "cell_type": "code",
   "execution_count": 78,
   "metadata": {},
   "outputs": [
    {
     "data": {
      "text/plain": [
       "<Galactocentric Coordinate (galcen_coord=<ICRS Coordinate: (ra, dec) in deg\n",
       "    ( 266.4051, -28.936175)>, galcen_distance=8.3 kpc, galcen_v_sun=( 11.1,  232.24,  7.25) km / s, z_sun=27.0 pc, roll=0.0 deg): (x, y, z) in pc\n",
       "    (-8414.73761104,  30.27521311,  118.6984873)\n",
       " (v_x, v_y, v_z) in km / s\n",
       "    ( 22.02778588,  316.22739384,  27.55100774)>"
      ]
     },
     "execution_count": 78,
     "metadata": {},
     "output_type": "execute_result"
    }
   ],
   "source": [
    "gc"
   ]
  },
  {
   "cell_type": "code",
   "execution_count": 79,
   "metadata": {},
   "outputs": [
    {
     "data": {
      "text/latex": [
       "$22.027786 \\; \\mathrm{\\frac{km}{s}}$"
      ],
      "text/plain": [
       "<Quantity 22.02778587653991 km / s>"
      ]
     },
     "execution_count": 79,
     "metadata": {},
     "output_type": "execute_result"
    }
   ],
   "source": [
    "gc.v_x"
   ]
  },
  {
   "cell_type": "code",
   "execution_count": 80,
   "metadata": {
    "collapsed": true
   },
   "outputs": [],
   "source": [
    "gc.set_representation_cls('cylindrical')"
   ]
  },
  {
   "cell_type": "code",
   "execution_count": 81,
   "metadata": {},
   "outputs": [
    {
     "data": {
      "text/plain": [
       "(<Quantity 8414.79207414941 pc>, <Quantity 118.69848729718139 pc>)"
      ]
     },
     "execution_count": 81,
     "metadata": {},
     "output_type": "execute_result"
    }
   ],
   "source": [
    "gc.rho, gc.z"
   ]
  },
  {
   "cell_type": "code",
   "execution_count": 85,
   "metadata": {},
   "outputs": [
    {
     "data": {
      "text/plain": [
       "(<Quantity -20.889902568623686 km / s>,\n",
       " <Quantity -7.929406338239896 mas / yr>,\n",
       " <Quantity 27.55100774399675 km / s>)"
      ]
     },
     "execution_count": 85,
     "metadata": {},
     "output_type": "execute_result"
    }
   ],
   "source": [
    "gc.d_rho.to(u.km/u.s), gc.d_phi.to(u.mas/u.yr), gc.d_z.to(u.km/u.s)"
   ]
  },
  {
   "cell_type": "markdown",
   "metadata": {},
   "source": [
    "All of this works with arrays as well. As an example, let's create a circular ring of particles at 15 kpc in the Galactocentric frame with the circular velocity of the disk, and transform to observable coordinates:"
   ]
  },
  {
   "cell_type": "code",
   "execution_count": 86,
   "metadata": {
    "collapsed": true
   },
   "outputs": [],
   "source": [
    "gc_frame = coord.Galactocentric(galcen_distance=8*u.kpc)"
   ]
  },
  {
   "cell_type": "code",
   "execution_count": 87,
   "metadata": {},
   "outputs": [
    {
     "data": {
      "text/plain": [
       "<Galactocentric Coordinate (galcen_coord=<ICRS Coordinate: (ra, dec) in deg\n",
       "    ( 266.4051, -28.936175)>, galcen_distance=8.0 kpc, galcen_v_sun=( 11.1,  232.24,  7.25) km / s, z_sun=27.0 pc, roll=0.0 deg): (x, y, z) in pc\n",
       "    (-8114.72477716,  30.27521311,  118.71248866)\n",
       " (v_x, v_y, v_z) in km / s\n",
       "    ( 22.03026229,  316.22739384,  27.54967453)>"
      ]
     },
     "execution_count": 87,
     "metadata": {},
     "output_type": "execute_result"
    }
   ],
   "source": [
    "icrs.transform_to(gc_frame)"
   ]
  },
  {
   "cell_type": "code",
   "execution_count": 88,
   "metadata": {
    "collapsed": true
   },
   "outputs": [],
   "source": [
    "circ_velocity = 220 * u.km/u.s\n",
    "dist = 15 * u.kpc\n",
    "\n",
    "phi_grid = np.random.uniform(0, 360, 512) * u.degree # grid of azimuths\n",
    "ring_rep = coord.CylindricalRepresentation(rho=dist, phi=phi_grid, z=0*u.pc)\n",
    "\n",
    "angular_velocity = -circ_velocity*np.ones(len(phi_grid)) / dist\n",
    "\n",
    "ring_dif = coord.CylindricalDifferential(\n",
    "    d_rho=0*u.km/u.s,\n",
    "    d_phi=angular_velocity.to(u.mas/u.yr, u.dimensionless_angles()),\n",
    "    d_z=0*u.km/u.s\n",
    ")\n",
    "\n",
    "ring_rep = ring_rep.with_differentials(ring_dif)\n",
    "gc_ring = coord.Galactocentric(ring_rep)"
   ]
  },
  {
   "cell_type": "code",
   "execution_count": 89,
   "metadata": {
    "collapsed": true
   },
   "outputs": [],
   "source": [
    "icrs_ring = gc_ring.transform_to(coord.ICRS)"
   ]
  },
  {
   "cell_type": "code",
   "execution_count": 90,
   "metadata": {},
   "outputs": [
    {
     "data": {
      "image/png": "[encoded data removed]",
      "text/plain": [
       "<matplotlib.figure.Figure at 0x11138d518>"
      ]
     },
     "metadata": {
      "image/png": {
       "height": 422,
       "width": 854
      }
     },
     "output_type": "display_data"
    }
   ],
   "source": [
    "fig,axes = plt.subplots(1, 2, figsize=(12,6))\n",
    "\n",
    "# Positions\n",
    "axes[0].plot(gc_ring.x, gc_ring.y, marker='.', linestyle='none')\n",
    "axes[0].text(-8., 0, r'$\\odot$', fontsize=20)\n",
    "\n",
    "axes[0].set_xlim(-30, 30)\n",
    "axes[0].set_ylim(-30, 30)\n",
    "\n",
    "axes[0].set_xlabel('$x$ [kpc]')\n",
    "axes[0].set_ylabel('$y$ [kpc]')\n",
    "\n",
    "# Velocities\n",
    "axes[1].plot(gc_ring.v_x, gc_ring.v_y, marker='.', linestyle='none')\n",
    "\n",
    "axes[1].set_xlim(-250, 250)\n",
    "axes[1].set_ylim(-250, 250)\n",
    "\n",
    "axes[1].set_xlabel('$v_x$ [{0}]'.format((u.km/u.s).to_string(\"latex_inline\")))\n",
    "axes[1].set_ylabel('$v_y$ [{0}]'.format((u.km/u.s).to_string(\"latex_inline\")))\n",
    "\n",
    "fig.tight_layout()"
   ]
  },
  {
   "cell_type": "code",
   "execution_count": 91,
   "metadata": {},
   "outputs": [
    {
     "data": {
      "text/plain": [
       "<matplotlib.text.Text at 0x10bdbf080>"
      ]
     },
     "execution_count": 91,
     "metadata": {},
     "output_type": "execute_result"
    },
    {
     "data": {
      "image/png": "[encoded data removed]",
      "text/plain": [
       "<matplotlib.figure.Figure at 0x1113a0a58>"
      ]
     },
     "metadata": {
      "image/png": {
       "height": 388,
       "width": 535
      }
     },
     "output_type": "display_data"
    }
   ],
   "source": [
    "fig,ax = plt.subplots(1, 1, figsize=(8,6))\n",
    "\n",
    "ax.plot(icrs_ring.ra.degree, icrs_ring.pm_ra_cosdec.value,\n",
    "        marker='.', linestyle='none')\n",
    "\n",
    "ax.set_xlim(360, 0)\n",
    "\n",
    "ax.set_xlabel(r'$\\alpha$ [deg]')\n",
    "ax.set_ylabel(r'$\\mu_\\alpha \\, \\cos \\delta$ [{0}]'.format((u.mas/u.yr).to_string('latex_inline')))"
   ]
  },
  {
   "cell_type": "markdown",
   "metadata": {},
   "source": [
    "### Defining a custom coordinate frame - Stellar stream coordinates"
   ]
  },
  {
   "cell_type": "markdown",
   "metadata": {},
   "source": [
    "As an example of how to define your own, custom coordinate frame, we'll define a Sagittarius stream coordinate frame. This system is roughly aligned with the stream so that the longitude component increases along the stream and the latitude is perpendicular to the stream. Though, this is only approximate because it is still a Barycentric frame. \n",
    "A more expository version of this tutorial is included [in the documentation](http://docs.astropy.org/en/latest/generated/examples/coordinates/plot_sgr-coordinate-frame.html#sphx-glr-generated-examples-coordinates-plot-sgr-coordinate-frame-py).\n",
    "\n",
    "Most of the below code is either documentation or boilerplate code that you can copy and paste if you want to define your own. The key bits below are that the longitude and latitude components of the frame are typically defined as $\\Lambda$ and $B$, so we'll call them `Lambda` and `Beta` in the below."
   ]
  },
  {
   "cell_type": "code",
   "execution_count": 92,
   "metadata": {
    "collapsed": true
   },
   "outputs": [],
   "source": [
    "from astropy.coordinates import frame_transform_graph\n",
    "from astropy.coordinates.matrix_utilities import rotation_matrix, matrix_product, matrix_transpose"
   ]
  },
  {
   "cell_type": "code",
   "execution_count": 93,
   "metadata": {
    "collapsed": true
   },
   "outputs": [],
   "source": [
    "class Sagittarius(coord.BaseCoordinateFrame):\n",
    "    \"\"\"\n",
    "    A Heliocentric spherical coordinate system defined by the orbit\n",
    "    of the Sagittarius dwarf galaxy, as described in\n",
    "        http://adsabs.harvard.edu/abs/2003ApJ...599.1082M\n",
    "    and further explained in\n",
    "        http://www.stsci.edu/~dlaw/Sgr/.\n",
    "\n",
    "    Parameters\n",
    "    ----------\n",
    "    representation : `BaseRepresentation` or None\n",
    "        A representation object or None to have no data (or use the other keywords)\n",
    "\n",
    "    Lambda : `Angle`, optional, must be keyword\n",
    "        The longitude-like angle corresponding to Sagittarius' orbit.\n",
    "    Beta : `Angle`, optional, must be keyword\n",
    "        The latitude-like angle corresponding to Sagittarius' orbit.\n",
    "    distance : `Quantity`, optional, must be keyword\n",
    "        The Distance for this object along the line-of-sight.\n",
    "\n",
    "    pm_Lambda_cosBeta : :class:`~astropy.units.Quantity`, optional, must be keyword\n",
    "        The proper motion along the stream in ``Lambda`` (including the\n",
    "        ``cos(Beta)`` factor) for this object (``pm_Beta`` must also be given).\n",
    "    pm_Beta : :class:`~astropy.units.Quantity`, optional, must be keyword\n",
    "        The proper motion in Declination for this object (``pm_ra_cosdec`` must\n",
    "        also be given).\n",
    "    radial_velocity : :class:`~astropy.units.Quantity`, optional, must be keyword\n",
    "        The radial velocity of this object.\n",
    "\n",
    "    \"\"\"\n",
    "    default_representation = coord.SphericalRepresentation\n",
    "    default_differential = coord.SphericalCosLatDifferential\n",
    "\n",
    "    frame_specific_representation_info = {\n",
    "        coord.SphericalRepresentation: [\n",
    "            coord.RepresentationMapping('lon', 'Lambda'),\n",
    "            coord.RepresentationMapping('lat', 'Beta'),\n",
    "            coord.RepresentationMapping('distance', 'distance')],\n",
    "        coord.SphericalCosLatDifferential: [\n",
    "            coord.RepresentationMapping('d_lon_coslat', 'pm_Lambda_cosBeta'),\n",
    "            coord.RepresentationMapping('d_lat', 'pm_Beta'),\n",
    "            coord.RepresentationMapping('d_distance', 'radial_velocity')],\n",
    "        coord.SphericalDifferential: [\n",
    "            coord.RepresentationMapping('d_lon', 'pm_Lambda'),\n",
    "            coord.RepresentationMapping('d_lat', 'pm_Beta'),\n",
    "            coord.RepresentationMapping('d_distance', 'radial_velocity')]\n",
    "    }\n",
    "\n",
    "    frame_specific_representation_info[coord.UnitSphericalRepresentation] = \\\n",
    "        frame_specific_representation_info[coord.SphericalRepresentation]\n",
    "    frame_specific_representation_info[coord.UnitSphericalCosLatDifferential] = \\\n",
    "        frame_specific_representation_info[coord.SphericalCosLatDifferential]\n",
    "    frame_specific_representation_info[coord.UnitSphericalDifferential] = \\\n",
    "        frame_specific_representation_info[coord.SphericalDifferential]"
   ]
  },
  {
   "cell_type": "code",
   "execution_count": 94,
   "metadata": {},
   "outputs": [
    {
     "data": {
      "text/plain": [
       "<Sagittarius Coordinate: (Lambda, Beta) in deg\n",
       "    ( 15., -11.)>"
      ]
     },
     "execution_count": 94,
     "metadata": {},
     "output_type": "execute_result"
    }
   ],
   "source": [
    "Sagittarius(Lambda=15*u.deg, Beta=-11*u.deg)"
   ]
  },
  {
   "cell_type": "code",
   "execution_count": 95,
   "metadata": {
    "collapsed": true
   },
   "outputs": [],
   "source": [
    "# Euler angles for the transformation from Law & Majewski 2010\n",
    "SGR_PHI = (180 + 3.75) * u.degree \n",
    "SGR_THETA = (90 - 13.46) * u.degree\n",
    "SGR_PSI = (180 + 14.111534) * u.degree\n",
    "\n",
    "# Generate the rotation matrix using the x-convention (see Goldstein)\n",
    "D = rotation_matrix(SGR_PHI, \"z\")\n",
    "C = rotation_matrix(SGR_THETA, \"x\")\n",
    "B = rotation_matrix(SGR_PSI, \"z\")\n",
    "A = np.diag([1.,1.,-1.])\n",
    "SGR_MATRIX = matrix_product(A, B, C, D)"
   ]
  },
  {
   "cell_type": "code",
   "execution_count": 96,
   "metadata": {
    "collapsed": true
   },
   "outputs": [],
   "source": [
    "@frame_transform_graph.transform(coord.StaticMatrixTransform, coord.Galactic, Sagittarius)\n",
    "def galactic_to_sgr():\n",
    "    \"\"\" Compute the transformation matrix from Galactic spherical to\n",
    "        heliocentric Sgr coordinates.\n",
    "    \"\"\"\n",
    "    return SGR_MATRIX\n",
    "\n",
    "@frame_transform_graph.transform(coord.StaticMatrixTransform, Sagittarius, coord.Galactic)\n",
    "def sgr_to_galactic():\n",
    "    \"\"\" Compute the transformation matrix from heliocentric Sgr coordinates to\n",
    "        spherical Galactic.\n",
    "    \"\"\"\n",
    "    return matrix_transpose(SGR_MATRIX)"
   ]
  },
  {
   "cell_type": "code",
   "execution_count": 97,
   "metadata": {},
   "outputs": [
    {
     "data": {
      "text/plain": [
       "<Sagittarius Coordinate: (Lambda, Beta) in deg\n",
       "    ( 201.23182338, -22.7297518)\n",
       " (pm_Lambda_cosBeta, pm_Beta) in mas / yr\n",
       "    ( 13.78560975, -118.06759489)>"
      ]
     },
     "execution_count": 97,
     "metadata": {},
     "output_type": "execute_result"
    }
   ],
   "source": [
    "icrs = coord.ICRS(ra=8.67*u.hourangle, dec=53.09*u.deg,\n",
    "                  pm_ra_cosdec=21*u.mas/u.yr, \n",
    "                  pm_dec=117*u.mas/u.yr)\n",
    "\n",
    "icrs.transform_to(Sagittarius)"
   ]
  },
  {
   "cell_type": "code",
   "execution_count": null,
   "metadata": {
    "collapsed": true
   },
   "outputs": [],
   "source": []
  }
 ],
 "metadata": {
  "anaconda-cloud": {},
  "kernelspec": {
   "display_name": "Python [default]",
   "language": "python",
   "name": "python3"
  },
  "language_info": {
   "codemirror_mode": {
    "name": "ipython",
    "version": 3
   },
   "file_extension": ".py",
   "mimetype": "text/x-python",
   "name": "python",
   "nbconvert_exporter": "python",
   "pygments_lexer": "ipython3",
   "version": "3.5.2"
  }
 },
 "nbformat": 4,
 "nbformat_minor": 2
}
